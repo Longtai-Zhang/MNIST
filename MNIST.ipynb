{
 "cells": [
  {
   "cell_type": "code",
   "execution_count": 2,
   "id": "ddec1c2b",
   "metadata": {},
   "outputs": [],
   "source": [
    "import numpy as np\n",
    "from PIL import Image\n",
    "import os"
   ]
  },
  {
   "cell_type": "code",
   "execution_count": 4,
   "id": "630f885e",
   "metadata": {},
   "outputs": [
    {
     "data": {
      "text/plain": [
       "60000"
      ]
     },
     "execution_count": 4,
     "metadata": {},
     "output_type": "execute_result"
    }
   ],
   "source": [
    "listing = os.listdir('images/')\n",
    "len(listing)"
   ]
  },
  {
   "cell_type": "code",
   "execution_count": 56,
   "id": "678400b6",
   "metadata": {},
   "outputs": [],
   "source": [
    "def load(path=\"images/\"):\n",
    "    '''\n",
    "    INPUT:\n",
    "    path            : the path of folder to be processed\n",
    "    \n",
    "    OUTPUT:\n",
    "    X, Y\n",
    "    '''\n",
    "    if path[-1] != '/':\n",
    "        path += '/'\n",
    "    \n",
    "    listing = os.listdir(path)\n",
    "    \n",
    "    X = np.zeros((60000, 784))\n",
    "    Y = np.zeros((60000, 1))\n",
    "    \n",
    "    for i in range(len(listing)):\n",
    "        img = Image.open('images/' + listing[i]).convert('L')\n",
    "        arr = np.asarray(img)\n",
    "        label = listing[i][-5]\n",
    "        X[i] = arr.flatten()\n",
    "        Y[i] = label    \n",
    "    return X, Y\n",
    "    \n",
    "X, Y = load()"
   ]
  },
  {
   "cell_type": "code",
   "execution_count": 66,
   "id": "6b4751b3",
   "metadata": {},
   "outputs": [
    {
     "name": "stdout",
     "output_type": "stream",
     "text": [
      "[0.]\n"
     ]
    },
    {
     "data": {
      "image/png": "[encoded data removed]",
      "text/plain": [
       "<Figure size 432x288 with 1 Axes>"
      ]
     },
     "metadata": {
      "needs_background": "light"
     },
     "output_type": "display_data"
    }
   ],
   "source": [
    "from matplotlib.pyplot import imshow\n",
    "\n",
    "index = 300\n",
    "\n",
    "%matplotlib inline\n",
    "matrix = np.reshape(X[index], (28, 28))\n",
    "img = Image.fromarray(matrix)\n",
    "imshow(np.asarray(img))\n",
    "print(Y[index])"
   ]
  },
  {
   "cell_type": "code",
   "execution_count": 76,
   "id": "35595a57",
   "metadata": {},
   "outputs": [],
   "source": [
    "from sklearn.model_selection import train_test_split\n",
    "xTr, xTe, yTr, yTe = train_test_split(X, Y, test_size=0.05)\n",
    "\n",
    "xTr, xVa, yTr, yVa = train_test_split(xTr, yTr, test_size=0.02, random_state=1)"
   ]
  },
  {
   "cell_type": "code",
   "execution_count": 77,
   "id": "e4e8bfcd",
   "metadata": {},
   "outputs": [
    {
     "name": "stdout",
     "output_type": "stream",
     "text": [
      "(55860, 784)\n",
      "(55860, 1)\n",
      "(1140, 784)\n",
      "(1140, 1)\n",
      "(3000, 784)\n",
      "(3000, 1)\n"
     ]
    }
   ],
   "source": [
    "print(xTr.shape)\n",
    "print(yTr.shape)\n",
    "print(xVa.shape)\n",
    "print(yVa.shape)\n",
    "print(xTe.shape)\n",
    "print(yTe.shape)"
   ]
  },
  {
   "cell_type": "code",
   "execution_count": 78,
   "id": "74ac2189",
   "metadata": {},
   "outputs": [
    {
     "name": "stderr",
     "output_type": "stream",
     "text": [
      "/Users/zhaiguankai/anaconda3/lib/python3.8/site-packages/sklearn/neighbors/_classification.py:179: DataConversionWarning: A column-vector y was passed when a 1d array was expected. Please change the shape of y to (n_samples,), for example using ravel().\n",
      "  return self._fit(X, y)\n"
     ]
    },
    {
     "data": {
      "text/plain": [
       "KNeighborsClassifier(n_neighbors=3)"
      ]
     },
     "execution_count": 78,
     "metadata": {},
     "output_type": "execute_result"
    }
   ],
   "source": [
    "from sklearn.neighbors import KNeighborsClassifier\n",
    "knn = KNeighborsClassifier(n_neighbors=3)\n",
    "knn.fit(xTr, yTr)"
   ]
  },
  {
   "cell_type": "code",
   "execution_count": 79,
   "id": "0cd73184",
   "metadata": {},
   "outputs": [
    {
     "data": {
      "text/plain": [
       "0.9614035087719298"
      ]
     },
     "execution_count": 79,
     "metadata": {},
     "output_type": "execute_result"
    }
   ],
   "source": [
    "knn.score(xVa, yVa)"
   ]
  },
  {
   "cell_type": "code",
   "execution_count": 157,
   "id": "656ec47c",
   "metadata": {},
   "outputs": [
    {
     "name": "stdout",
     "output_type": "stream",
     "text": [
      "这次测试验证集中的第39个照片\n",
      "预测的数字是：0.0\n",
      "实际的数字是：0.0\n"
     ]
    },
    {
     "data": {
      "image/png": "[encoded data removed]",
      "text/plain": [
       "<Figure size 432x288 with 1 Axes>"
      ]
     },
     "metadata": {
      "needs_background": "light"
     },
     "output_type": "display_data"
    }
   ],
   "source": [
    "from random import randrange\n",
    "index = randrange(1140)\n",
    "\n",
    "%matplotlib inline\n",
    "matrix = np.reshape(xVa[index], (28, 28))\n",
    "img = Image.fromarray(matrix)\n",
    "imshow(np.asarray(img))\n",
    "x = np.reshape(xVa[index], (1, 784))\n",
    "y_hat = knn.predict(x)[0]\n",
    "y = yVa[index][0]\n",
    "print(\"这次测试验证集中的第\"+str(index+1)+\"个照片\")\n",
    "print(\"预测的数字是：\"+str(y_hat))\n",
    "print(\"实际的数字是：\"+str(y))"
   ]
  },
  {
   "cell_type": "code",
   "execution_count": 168,
   "id": "f4b95279",
   "metadata": {},
   "outputs": [],
   "source": [
    "y_hat = np.reshape(knn.predict(xVa), (1140, 1))"
   ]
  },
  {
   "cell_type": "code",
   "execution_count": 172,
   "id": "e03a44d3",
   "metadata": {},
   "outputs": [
    {
     "data": {
      "text/plain": [
       "44"
      ]
     },
     "execution_count": 172,
     "metadata": {},
     "output_type": "execute_result"
    }
   ],
   "source": [
    "wrong_indices = np.where(np.not_equal(y_hat, yVa))[0]\n",
    "len(wrong_indices)"
   ]
  },
  {
   "cell_type": "code",
   "execution_count": 181,
   "id": "32819f33",
   "metadata": {},
   "outputs": [
    {
     "name": "stdout",
     "output_type": "stream",
     "text": [
      "这次测试验证集中的第120个照片\n",
      "预测的数字是：0.0\n",
      "实际的数字是：5.0\n"
     ]
    },
    {
     "data": {
      "image/png": "[encoded data removed]",
      "text/plain": [
       "<Figure size 432x288 with 1 Axes>"
      ]
     },
     "metadata": {
      "needs_background": "light"
     },
     "output_type": "display_data"
    }
   ],
   "source": [
    "%matplotlib inline\n",
    "\n",
    "from random import randrange\n",
    "index = wrong_indices[randrange(44)]\n",
    "\n",
    "matrix = np.reshape(xVa[index], (28, 28))\n",
    "img = Image.fromarray(matrix)\n",
    "imshow(np.asarray(img))\n",
    "x = np.reshape(xVa[index], (1, 784))\n",
    "y_hat = knn.predict(x)[0]\n",
    "y = yVa[index][0]\n",
    "print(\"这次测试验证集中的第\"+str(index+1)+\"个照片\")\n",
    "print(\"预测的数字是：\"+str(y_hat))\n",
    "print(\"实际的数字是：\"+str(y))"
   ]
  },
  {
   "cell_type": "code",
   "execution_count": 183,
   "id": "fbddf00a",
   "metadata": {},
   "outputs": [
    {
     "data": {
      "text/plain": [
       "(array([0., 1., 2., 3., 4., 5., 6., 7., 8., 9.]),\n",
       " array([ 1,  1,  2,  5,  3,  7,  5,  2, 12,  6]))"
      ]
     },
     "execution_count": 183,
     "metadata": {},
     "output_type": "execute_result"
    }
   ],
   "source": [
    "np.unique(yVa[wrong_indices], return_counts=True)"
   ]
  },
  {
   "cell_type": "code",
   "execution_count": 184,
   "id": "291b2407",
   "metadata": {},
   "outputs": [
    {
     "data": {
      "text/plain": [
       "(array([0., 1., 2., 3., 4., 5., 6., 7., 8., 9.]),\n",
       " array([114, 122, 105, 119, 109,  89, 137, 105, 118, 122]))"
      ]
     },
     "execution_count": 184,
     "metadata": {},
     "output_type": "execute_result"
    }
   ],
   "source": [
    "np.unique(yVa, return_counts=True)"
   ]
  },
  {
   "cell_type": "code",
   "execution_count": null,
   "id": "2dfc155e",
   "metadata": {},
   "outputs": [],
   "source": []
  }
 ],
 "metadata": {
  "kernelspec": {
   "display_name": "Python 3",
   "language": "python",
   "name": "python3"
  },
  "language_info": {
   "codemirror_mode": {
    "name": "ipython",
    "version": 3
   },
   "file_extension": ".py",
   "mimetype": "text/x-python",
   "name": "python",
   "nbconvert_exporter": "python",
   "pygments_lexer": "ipython3",
   "version": "3.8.8"
  }
 },
 "nbformat": 4,
 "nbformat_minor": 5
}
