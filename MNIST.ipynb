{
 "cells": [
  {
   "cell_type": "code",
   "execution_count": 2,
   "id": "9e5612d7",
   "metadata": {},
   "outputs": [],
   "source": [
    "import numpy as np\n",
    "from PIL import Image\n",
    "import os"
   ]
  },
  {
   "cell_type": "code",
   "execution_count": 4,
   "id": "962116da",
   "metadata": {},
   "outputs": [
    {
     "data": {
      "text/plain": [
       "60000"
      ]
     },
     "execution_count": 4,
     "metadata": {},
     "output_type": "execute_result"
    }
   ],
   "source": [
    "listing = os.listdir('images/')\n",
    "len(listing)"
   ]
  },
  {
   "cell_type": "code",
   "execution_count": 56,
   "id": "8de0dbbd",
   "metadata": {},
   "outputs": [],
   "source": [
    "def load(path=\"images/\"):\n",
    "    '''\n",
    "    INPUT:\n",
    "    path            : the path of folder to be processed\n",
    "    \n",
    "    OUTPUT:\n",
    "    X, Y\n",
    "    '''\n",
    "    if path[-1] != '/':\n",
    "        path += '/'\n",
    "    \n",
    "    listing = os.listdir(path)\n",
    "    \n",
    "    X = np.zeros((60000, 784))\n",
    "    Y = np.zeros((60000, 1))\n",
    "    \n",
    "    for i in range(len(listing)):\n",
    "        img = Image.open('images/' + listing[i]).convert('L')\n",
    "        arr = np.asarray(img)\n",
    "        label = listing[i][-5]\n",
    "        X[i] = arr.flatten()\n",
    "        Y[i] = label    \n",
    "    return X, Y\n",
    "    \n",
    "X, Y = load()"
   ]
  },
  {
   "cell_type": "code",
   "execution_count": 66,
   "id": "947a1440",
   "metadata": {},
   "outputs": [
    {
     "name": "stdout",
     "output_type": "stream",
     "text": [
      "[0.]\n"
     ]
    },
    {
     "data": {
      "image/png": "[encoded data removed]",
      "text/plain": [
       "<Figure size 432x288 with 1 Axes>"
      ]
     },
     "metadata": {
      "needs_background": "light"
     },
     "output_type": "display_data"
    }
   ],
   "source": [
    "from matplotlib.pyplot import imshow\n",
    "\n",
    "index = 300\n",
    "\n",
    "%matplotlib inline\n",
    "matrix = np.reshape(X[index], (28, 28))\n",
    "img = Image.fromarray(matrix)\n",
    "imshow(np.asarray(img))\n",
    "print(Y[index])"
   ]
  },
  {
   "cell_type": "code",
   "execution_count": 76,
   "id": "4d0234a3",
   "metadata": {},
   "outputs": [],
   "source": [
    "from sklearn.model_selection import train_test_split\n",
    "xTr, xTe, yTr, yTe = train_test_split(X, Y, test_size=0.05)\n",
    "\n",
    "xTr, xVa, yTr, yVa = train_test_split(xTr, yTr, test_size=0.02, random_state=1)"
   ]
  },
  {
   "cell_type": "code",
   "execution_count": 77,
   "id": "5bcd667c",
   "metadata": {},
   "outputs": [
    {
     "name": "stdout",
     "output_type": "stream",
     "text": [
      "(55860, 784)\n",
      "(55860, 1)\n",
      "(1140, 784)\n",
      "(1140, 1)\n",
      "(3000, 784)\n",
      "(3000, 1)\n"
     ]
    }
   ],
   "source": [
    "print(xTr.shape)\n",
    "print(yTr.shape)\n",
    "print(xVa.shape)\n",
    "print(yVa.shape)\n",
    "print(xTe.shape)\n",
    "print(yTe.shape)"
   ]
  },
  {
   "cell_type": "code",
   "execution_count": null,
   "id": "7f04be64",
   "metadata": {},
   "outputs": [],
   "source": []
  }
 ],
 "metadata": {
  "kernelspec": {
   "display_name": "Python 3",
   "language": "python",
   "name": "python3"
  },
  "language_info": {
   "codemirror_mode": {
    "name": "ipython",
    "version": 3
   },
   "file_extension": ".py",
   "mimetype": "text/x-python",
   "name": "python",
   "nbconvert_exporter": "python",
   "pygments_lexer": "ipython3",
   "version": "3.8.8"
  }
 },
 "nbformat": 4,
 "nbformat_minor": 5
}
